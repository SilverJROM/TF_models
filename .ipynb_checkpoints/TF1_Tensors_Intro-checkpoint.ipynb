{
 "cells": [
  {
   "cell_type": "code",
   "execution_count": 1,
   "id": "369bbaa2-fdf6-4f7c-8ec9-d9b39a06a6fb",
   "metadata": {},
   "outputs": [],
   "source": [
    "import tensorflow as tf  # now import the tensorflow module\n"
   ]
  },
  {
   "cell_type": "markdown",
   "id": "909dc3ad-53f5-449d-839d-1de2668b6bb7",
   "metadata": {},
   "source": [
    "# Tensors\n"
   ]
  },
  {
   "cell_type": "code",
   "execution_count": 2,
   "id": "0be5485f-2702-4e3d-abb8-26e965850bff",
   "metadata": {},
   "outputs": [],
   "source": [
    "string = tf.Variable(\"this is a string\", tf.string) \n",
    "number = tf.Variable(324, tf.int16)\n",
    "floating = tf.Variable(3.567, tf.float64)"
   ]
  },
  {
   "cell_type": "code",
   "execution_count": 3,
   "id": "19a57a52-a4d5-4396-ae35-032f3d02ef5a",
   "metadata": {},
   "outputs": [],
   "source": [
    "rank1_tensor = tf.Variable([\"Test\"], tf.string) \n",
    "rank2_tensor = tf.Variable([[\"test\", \"ok\", 'test'], [\"test\", \"yes\", \"jrom\"]], tf.string)"
   ]
  },
  {
   "cell_type": "code",
   "execution_count": 4,
   "id": "012f2ee6-d429-4b43-832b-7f8d592a3e55",
   "metadata": {},
   "outputs": [
    {
     "data": {
      "text/plain": [
       "<tf.Tensor: shape=(), dtype=int32, numpy=1>"
      ]
     },
     "execution_count": 4,
     "metadata": {},
     "output_type": "execute_result"
    }
   ],
   "source": [
    "tf.rank(rank1_tensor)"
   ]
  },
  {
   "cell_type": "code",
   "execution_count": 5,
   "id": "b3f9807f-126e-4209-b174-55dc78617955",
   "metadata": {},
   "outputs": [
    {
     "data": {
      "text/plain": [
       "TensorShape([2, 3])"
      ]
     },
     "execution_count": 5,
     "metadata": {},
     "output_type": "execute_result"
    }
   ],
   "source": [
    "rank2_tensor.shape"
   ]
  },
  {
   "cell_type": "code",
   "execution_count": 6,
   "id": "83f70381-87fb-492b-85cf-09b8caa20aff",
   "metadata": {},
   "outputs": [],
   "source": [
    "tensor1 = tf.ones([1,2,3])  # tf.ones() creates a shape [1,2,3] tensor full of ones\n",
    "tensor2 = tf.reshape(tensor1, [2,3,1])  # reshape existing data to shape [2,3,1]\n",
    "tensor3 = tf.reshape(tensor2, [3, -1])  # -1 tells the tensor to calculate the size of the dimension in that place\n",
    "                                        # this will reshape the tensor to [3,3]\n",
    "                                                                             \n",
    "# The numer of elements in the reshaped tensor MUST match the number in the original\n",
    "tensor3 = tf.reshape(rank2_tensor, [2,3,1])\n",
    "tensor4 = tf.reshape(rank2_tensor, [3, -1])"
   ]
  },
  {
   "cell_type": "code",
   "execution_count": 7,
   "id": "66ee7fb9-c243-435d-8891-c6ea5e3a5760",
   "metadata": {},
   "outputs": [
    {
     "name": "stdout",
     "output_type": "stream",
     "text": [
      "tf.Tensor(\n",
      "[[[b'test']\n",
      "  [b'ok']\n",
      "  [b'test']]\n",
      "\n",
      " [[b'test']\n",
      "  [b'yes']\n",
      "  [b'jrom']]], shape=(2, 3, 1), dtype=string)\n",
      "tf.Tensor(\n",
      "[[b'test' b'ok']\n",
      " [b'test' b'test']\n",
      " [b'yes' b'jrom']], shape=(3, 2), dtype=string)\n"
     ]
    }
   ],
   "source": [
    "# print(tensor1)\n",
    "# print(tensor2)\n",
    "print(tensor3)\n",
    "print(tensor4)"
   ]
  },
  {
   "cell_type": "code",
   "execution_count": 8,
   "id": "97896828-e161-4665-895c-69af649af441",
   "metadata": {},
   "outputs": [
    {
     "name": "stdout",
     "output_type": "stream",
     "text": [
      "tf.Tensor(2, shape=(), dtype=int32)\n",
      "(4, 5)\n"
     ]
    }
   ],
   "source": [
    "# Creating a 2D tensor\n",
    "matrix = [[1,2,3,4,5],\n",
    "          [6,7,8,9,10],\n",
    "          [11,12,13,14,15],\n",
    "          [16,17,18,19,20]]\n",
    "\n",
    "tensor = tf.Variable(matrix, dtype=tf.int32) \n",
    "print(tf.rank(tensor))\n",
    "print(tensor.shape)"
   ]
  },
  {
   "cell_type": "code",
   "execution_count": 9,
   "id": "958968a5-29ab-4b3e-84cb-cdcd2ae87317",
   "metadata": {},
   "outputs": [
    {
     "name": "stdout",
     "output_type": "stream",
     "text": [
      "tf.Tensor(3, shape=(), dtype=int32)\n",
      "tf.Tensor([1 2 3 4 5], shape=(5,), dtype=int32)\n",
      "tf.Tensor([ 1  6 11 16], shape=(4,), dtype=int32)\n",
      "tf.Tensor(\n",
      "[[ 6  7  8  9 10]\n",
      " [16 17 18 19 20]], shape=(2, 5), dtype=int32)\n",
      "tf.Tensor([ 6 11 16], shape=(3,), dtype=int32)\n"
     ]
    }
   ],
   "source": [
    "# Now lets select some different rows and columns from our tensor\n",
    "\n",
    "three = tensor[0,2]  # selects the 3rd element from the 1st row\n",
    "print(three)  # -> 3\n",
    "\n",
    "row1 = tensor[0]  # selects the first row\n",
    "print(row1)\n",
    "\n",
    "column1 = tensor[:, 0]  # selects the first column\n",
    "print(column1)\n",
    "\n",
    "row2and4 = tensor[1::2]  # selects second and fourth row\n",
    "print(row2and4)\n",
    "\n",
    "column_1_in_row_2_and_3 = tensor[1:4, 0]\n",
    "print(column_1_in_row_2_and_3)\n"
   ]
  },
  {
   "cell_type": "code",
   "execution_count": null,
   "id": "fbd0cb56-45f5-4289-a849-b96a43b9ccfb",
   "metadata": {},
   "outputs": [],
   "source": []
  }
 ],
 "metadata": {
  "kernelspec": {
   "display_name": "Python 3 (ipykernel)",
   "language": "python",
   "name": "python3"
  },
  "language_info": {
   "codemirror_mode": {
    "name": "ipython",
    "version": 3
   },
   "file_extension": ".py",
   "mimetype": "text/x-python",
   "name": "python",
   "nbconvert_exporter": "python",
   "pygments_lexer": "ipython3",
   "version": "3.11.3"
  }
 },
 "nbformat": 4,
 "nbformat_minor": 5
}
